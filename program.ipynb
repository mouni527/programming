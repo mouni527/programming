{
  "cells": [
    {
      "cell_type": "markdown",
      "metadata": {
        "colab_type": "text",
        "id": "view-in-github"
      },
      "source": [
        "<a href=\"https://colab.research.google.com/github/mouni527/programming/blob/master/program.ipynb\" target=\"_parent\"><img src=\"https://colab.research.google.com/assets/colab-badge.svg\" alt=\"Open In Colab\"/></a>"
      ]
    },
    {
      "cell_type": "code",
      "execution_count": null,
      "metadata": {
        "id": "kzTOFzxJZep1"
      },
      "outputs": [],
      "source": [
        "n1=[1234,7896,8976,4536]\n",
        "s=\"\"\n",
        "for i in n1:\n",
        "    s+=str(i)\n",
        "res=[]\n",
        "for i in s:\n",
        "    res.append(int(i))\n",
        "print(res)"
      ]
    }
  ],
  "metadata": {
    "colab": {
      "authorship_tag": "ABX9TyOe2UFXtxjR42JtmmoShEhl",
      "include_colab_link": true,
      "provenance": []
    },
    "kernelspec": {
      "display_name": "Python 3",
      "name": "python3"
    },
    "language_info": {
      "name": "python"
    }
  },
  "nbformat": 4,
  "nbformat_minor": 0
}
