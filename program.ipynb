{
  "nbformat": 4,
  "nbformat_minor": 0,
  "metadata": {
    "colab": {
      "provenance": [],
      "authorship_tag": "ABX9TyOe2UFXtxjR42JtmmoShEhl",
      "include_colab_link": true
    },
    "kernelspec": {
      "name": "python3",
      "display_name": "Python 3"
    },
    "language_info": {
      "name": "python"
    }
  },
  "cells": [
    {
      "cell_type": "markdown",
      "metadata": {
        "id": "view-in-github",
        "colab_type": "text"
      },
      "source": [
        "<a href=\"https://colab.research.google.com/github/mouni527/programming/blob/master/program.ipynb\" target=\"_parent\"><img src=\"https://colab.research.google.com/assets/colab-badge.svg\" alt=\"Open In Colab\"/></a>"
      ]
    },
    {
      "cell_type": "code",
      "execution_count": null,
      "metadata": {
        "id": "kzTOFzxJZep1"
      },
      "outputs": [],
      "source": [
        "n1=[1234,7896,8976,4536]\n",
        "s=\"\"\n",
        "for i in n1:\n",
        "    s+=str(i)\n",
        "res=[]\n",
        "for i in s:\n",
        "    res.append(int(i))\n",
        "print(res)"
      ]
    }
  ]
}