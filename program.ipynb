{
  "nbformat": 4,
  "nbformat_minor": 0,
  "metadata": {
    "colab": {
      "provenance": [],
      "authorship_tag": "ABX9TyNzClCeZ9TKilzdSxVsb5NM",
      "include_colab_link": true
    },
    "kernelspec": {
      "name": "python3",
      "display_name": "Python 3"
    },
    "language_info": {
      "name": "python"
    }
  },
  "cells": [
    {
      "cell_type": "markdown",
      "metadata": {
        "id": "view-in-github",
        "colab_type": "text"
      },
      "source": [
        "<a href=\"https://colab.research.google.com/github/mouni527/programming/blob/master/program.ipynb\" target=\"_parent\"><img src=\"https://colab.research.google.com/assets/colab-badge.svg\" alt=\"Open In Colab\"/></a>"
      ]
    },
    {
      "cell_type": "code",
      "execution_count": null,
      "metadata": {
        "id": "kzTOFzxJZep1"
      },
      "outputs": [],
      "source": [
        "n1=[1234,7896,8976,4536]\n",
        "s=\"\"\n",
        "for i in n1:\n",
        "    s+=str(i)\n",
        "res=[]\n",
        "for i in s:\n",
        "    res.append(int(i))\n",
        "print(res)"
      ]
    },
    {
      "cell_type": "code",
      "source": [
        "n=int(input())\n",
        "if n%2==0:\n",
        "    if n>6 and n<=20:\n",
        "     print(\"weired\")\n",
        "    else:\n",
        "      print(\"not weired\")\n",
        "else:\n",
        "    print(\"weired\")"
      ],
      "metadata": {
        "colab": {
          "base_uri": "https://localhost:8080/"
        },
        "id": "AkOJp-oXzieh",
        "outputId": "55f48a0f-e834-40a9-9b81-a2183ab77e7e"
      },
      "execution_count": 2,
      "outputs": [
        {
          "output_type": "stream",
          "name": "stdout",
          "text": [
            "4\n",
            "not weired\n"
          ]
        }
      ]
    }
  ]
}