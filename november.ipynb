{
  "nbformat": 4,
  "nbformat_minor": 0,
  "metadata": {
    "colab": {
      "provenance": [],
      "authorship_tag": "ABX9TyMwartOq33AJA8oqU+Khzlo",
      "include_colab_link": true
    },
    "kernelspec": {
      "name": "python3",
      "display_name": "Python 3"
    },
    "language_info": {
      "name": "python"
    }
  },
  "cells": [
    {
      "cell_type": "markdown",
      "metadata": {
        "id": "view-in-github",
        "colab_type": "text"
      },
      "source": [
        "<a href=\"https://colab.research.google.com/github/mouni527/programming/blob/master/november.ipynb\" target=\"_parent\"><img src=\"https://colab.research.google.com/assets/colab-badge.svg\" alt=\"Open In Colab\"/></a>"
      ]
    },
    {
      "cell_type": "code",
      "execution_count": null,
      "metadata": {
        "colab": {
          "base_uri": "https://localhost:8080/"
        },
        "id": "MGi6G2zBbolQ",
        "outputId": "fde56765-1810-450a-98c4-0276dc676a09"
      },
      "outputs": [
        {
          "output_type": "stream",
          "name": "stdout",
          "text": [
            "1885\n",
            "not leap year\n"
          ]
        }
      ],
      "source": [
        "n=int(input())\n",
        "if n%400==0 or n%4==0 and n%100!=0:\n",
        "  print(\"leap year\")\n",
        "else:\n",
        "  print(\"not leap year\")"
      ]
    },
    {
      "cell_type": "code",
      "source": [
        "n=16\n",
        "c=0\n",
        "for i in range(2,n):\n",
        "  if n%i==0:\n",
        "    c=c+1\n",
        "    break\n",
        "if c==1:\n",
        "  print(\"not prime\")\n",
        "else:\n",
        "  print(\"prime\")\n"
      ],
      "metadata": {
        "colab": {
          "base_uri": "https://localhost:8080/"
        },
        "id": "D3e79CCWewn4",
        "outputId": "452149b0-8ada-4e01-f0ae-e01bb1672447"
      },
      "execution_count": null,
      "outputs": [
        {
          "output_type": "stream",
          "name": "stdout",
          "text": [
            "not prime\n"
          ]
        }
      ]
    },
    {
      "cell_type": "markdown",
      "source": [
        "prime numbers given range"
      ],
      "metadata": {
        "id": "KZ063IxD5dr0"
      }
    },
    {
      "cell_type": "code",
      "source": [
        "l=[]\n",
        "for i in range(2,100):\n",
        "  c=0\n",
        "  for j in range(2,i):\n",
        "    if i%j==0:\n",
        "      c+=1\n",
        "      break\n",
        "  if c==0:\n",
        "     l.append(i)\n",
        "print(l)\n",
        "print(len(l))\n"
      ],
      "metadata": {
        "colab": {
          "base_uri": "https://localhost:8080/"
        },
        "id": "foJspYlOftgn",
        "outputId": "c6f61fda-a4f8-4859-a864-e733f398c564"
      },
      "execution_count": null,
      "outputs": [
        {
          "output_type": "stream",
          "name": "stdout",
          "text": [
            "[2, 3, 5, 7, 11, 13, 17, 19, 23, 29, 31, 37, 41, 43, 47, 53, 59, 61, 67, 71, 73, 79, 83, 89, 97]\n",
            "25\n"
          ]
        }
      ]
    },
    {
      "cell_type": "markdown",
      "source": [
        "selection sort"
      ],
      "metadata": {
        "id": "mAEHX-WdL7eB"
      }
    },
    {
      "cell_type": "code",
      "source": [
        "def sel(a,len):\n",
        "    for i in range(len):\n",
        "        for j in range(i+1,len):\n",
        "            if a[i]>a[j]:\n",
        "                a[i],a[j]=a[j],a[i]\n",
        "a=[18,3,28,28,45,67,34]\n",
        "print(a)\n",
        "sel(a,len(a))\n",
        "print(a)\n",
        "\n"
      ],
      "metadata": {
        "colab": {
          "base_uri": "https://localhost:8080/"
        },
        "id": "XaucxiokL08B",
        "outputId": "58234381-9e8b-467a-bda8-727613462160"
      },
      "execution_count": null,
      "outputs": [
        {
          "output_type": "stream",
          "name": "stdout",
          "text": [
            "[18, 3, 28, 28, 45, 67, 34]\n",
            "[3, 18, 28, 28, 34, 45, 67]\n"
          ]
        }
      ]
    },
    {
      "cell_type": "code",
      "source": [
        "h=[19,39,45,27,48]\n",
        "p=[29,78,34,29,89]\n",
        "print(len(h)-1)\n",
        "print(len(p))"
      ],
      "metadata": {
        "colab": {
          "base_uri": "https://localhost:8080/"
        },
        "id": "V9UDuV4pMDQY",
        "outputId": "85e46660-78bc-4409-e234-6b6242a79ea2"
      },
      "execution_count": null,
      "outputs": [
        {
          "output_type": "stream",
          "name": "stdout",
          "text": [
            "4\n",
            "5\n"
          ]
        }
      ]
    },
    {
      "cell_type": "markdown",
      "source": [
        "Bubble sort\n"
      ],
      "metadata": {
        "id": "R88AXKo_TQ0n"
      }
    },
    {
      "cell_type": "code",
      "source": [
        "def bub(a,len):\n",
        "  for i in range(len):\n",
        "    for j in range((len)-1):\n",
        "      if a[j]>a[j+1]:\n",
        "        a[j],a[j+1]=a[j+1],a[j]\n",
        "a=[1,8,3,5,9,6,2]\n",
        "print(a)\n",
        "bub(a,len(a))\n",
        "print(a)"
      ],
      "metadata": {
        "id": "pH7ltQh7TPs4",
        "colab": {
          "base_uri": "https://localhost:8080/"
        },
        "outputId": "429e8f05-9064-4554-b76a-7ee73fe49262"
      },
      "execution_count": null,
      "outputs": [
        {
          "output_type": "stream",
          "name": "stdout",
          "text": [
            "[1, 8, 3, 5, 9, 6, 2]\n",
            "[1, 2, 3, 5, 6, 8, 9]\n"
          ]
        }
      ]
    },
    {
      "cell_type": "code",
      "source": [
        "l=[3,8,9,15]\n",
        "k=[2,5,7,13,17]\n",
        "print(sorted(l+k))\n"
      ],
      "metadata": {
        "colab": {
          "base_uri": "https://localhost:8080/"
        },
        "id": "ovOAL1DzUomD",
        "outputId": "32512b96-99a5-487f-96e6-c00e3fd50129"
      },
      "execution_count": null,
      "outputs": [
        {
          "output_type": "stream",
          "name": "stdout",
          "text": [
            "[2, 3, 5, 7, 8, 9, 13, 15, 17]\n"
          ]
        }
      ]
    },
    {
      "cell_type": "markdown",
      "source": [
        "concating two arrays in order"
      ],
      "metadata": {
        "id": "n2KzC0cqv83Y"
      }
    },
    {
      "cell_type": "code",
      "source": [
        "a=[3,8,9,15]\n",
        "b=[2,5,7,13,17]\n",
        "c=[]\n",
        "c=[0]*(len(a)+len(b))\n",
        "print(a,b,c)\n",
        "i,j,k=0,0,0\n",
        "while i<len(a) and j<len(b):\n",
        "  if a[i]<b[j]:\n",
        "    c[k]=a[i]\n",
        "    i=i+1\n",
        "  else:\n",
        "    c[k]=b[j]\n",
        "    j+=1\n",
        "  k+=1\n",
        "while j<len(b):\n",
        "  c[k]=b[j]\n",
        "  j+=1\n",
        "  k+=1\n",
        "while i<len(a):\n",
        "  c[k]=a[i]\n",
        "  i+=1\n",
        "  k+=1\n",
        "print(a,b,c)\n"
      ],
      "metadata": {
        "id": "g474l8I6VFM3",
        "colab": {
          "base_uri": "https://localhost:8080/"
        },
        "outputId": "85d5ee9f-e99f-4fa5-95ab-73aa55f4a456"
      },
      "execution_count": null,
      "outputs": [
        {
          "output_type": "stream",
          "name": "stdout",
          "text": [
            "[3, 8, 9, 15] [2, 5, 7, 13, 17] [0, 0, 0, 0, 0, 0, 0, 0, 0]\n",
            "[3, 8, 9, 15] [2, 5, 7, 13, 17] [2, 3, 5, 7, 8, 9, 13, 15, 17]\n"
          ]
        }
      ]
    },
    {
      "cell_type": "markdown",
      "source": [
        "sum of digits of a number\n"
      ],
      "metadata": {
        "id": "OcB8XNZF6E1n"
      }
    },
    {
      "cell_type": "code",
      "source": [
        "'''n=12345\n",
        "k=str(n)\n",
        "s=0\n",
        "for i in range(len(k)+1):\n",
        "  s=s+int(i)\n",
        "print(s)'''\n",
        "'''another method'''\n",
        "n=1234\n",
        "s=0\n",
        "while n>0:\n",
        "  r=n%10\n",
        "  s=s+r\n",
        "  n=n//10\n",
        "print(s)"
      ],
      "metadata": {
        "id": "2ppoT91NMzYA",
        "colab": {
          "base_uri": "https://localhost:8080/"
        },
        "outputId": "e6ce3a15-1b86-45a2-dbe4-79e7caf32c37"
      },
      "execution_count": null,
      "outputs": [
        {
          "output_type": "stream",
          "name": "stdout",
          "text": [
            "10\n"
          ]
        }
      ]
    },
    {
      "cell_type": "markdown",
      "source": [
        "reverse of a number"
      ],
      "metadata": {
        "id": "KZZsAKksAGTF"
      }
    },
    {
      "cell_type": "code",
      "source": [
        "n=12342345689\n",
        "s=0\n",
        "while n>0:\n",
        "  r=n%10\n",
        "  s=s*10+r\n",
        "  n=n//10\n",
        "print(s)"
      ],
      "metadata": {
        "colab": {
          "base_uri": "https://localhost:8080/"
        },
        "id": "SOrhbLfQ_kSe",
        "outputId": "60f0097f-a88f-473f-ce34-4dad61f60031"
      },
      "execution_count": null,
      "outputs": [
        {
          "output_type": "stream",
          "name": "stdout",
          "text": [
            "98654324321\n"
          ]
        }
      ]
    },
    {
      "cell_type": "code",
      "source": [
        "\n"
      ],
      "metadata": {
        "id": "D6kv6fCmANLv"
      },
      "execution_count": null,
      "outputs": []
    },
    {
      "cell_type": "markdown",
      "source": [
        "reverse a string"
      ],
      "metadata": {
        "id": "ECOybFkGAQbp"
      }
    },
    {
      "cell_type": "code",
      "source": [
        "n=\"mounikachakali\"\n",
        "m=n[::-1]\n",
        "print(m)\n"
      ],
      "metadata": {
        "colab": {
          "base_uri": "https://localhost:8080/"
        },
        "id": "0L0sEyrlAUGV",
        "outputId": "c925331f-bd7a-46ba-9842-5aaa226ca346"
      },
      "execution_count": null,
      "outputs": [
        {
          "output_type": "stream",
          "name": "stdout",
          "text": [
            "ilakahcakinuom\n"
          ]
        }
      ]
    }
  ]
}